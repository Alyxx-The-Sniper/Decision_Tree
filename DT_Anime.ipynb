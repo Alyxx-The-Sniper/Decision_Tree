{
 "cells": [
  {
   "cell_type": "markdown",
   "id": "89ade093",
   "metadata": {},
   "source": [
    "# Decision Tree\n",
    "- Anime dataset\n",
    "- Perform a Decision Tree Classifier weather \"to watch\" or \"not to watch\" an anime titles based on my preferences."
   ]
  },
  {
   "cell_type": "markdown",
   "id": "bf5b8559",
   "metadata": {},
   "source": [
    "### Loading Dataset "
   ]
  },
  {
   "cell_type": "code",
   "execution_count": 1,
   "id": "6a5d8992",
   "metadata": {},
   "outputs": [],
   "source": [
    "import pandas as pd\n",
    "import numpy as np\n",
    "from sklearn.model_selection import train_test_split\n",
    "from sklearn.tree import DecisionTreeClassifier, DecisionTreeRegressor\n",
    "from sklearn.metrics import accuracy_score,confusion_matrix, plot_confusion_matrix\n",
    "from sklearn import tree\n",
    "from sklearn.model_selection import cross_val_score\n",
    "import matplotlib.pyplot as plt\n",
    "import seaborn as sns\n",
    "\n",
    "import warnings\n",
    "warnings.filterwarnings('ignore')"
   ]
  },
  {
   "cell_type": "code",
   "execution_count": 2,
   "id": "14e36922",
   "metadata": {},
   "outputs": [
    {
     "name": "stdout",
     "output_type": "stream",
     "text": [
      "(18495, 17)\n"
     ]
    },
    {
     "data": {
      "text/html": [
       "<div>\n",
       "<style scoped>\n",
       "    .dataframe tbody tr th:only-of-type {\n",
       "        vertical-align: middle;\n",
       "    }\n",
       "\n",
       "    .dataframe tbody tr th {\n",
       "        vertical-align: top;\n",
       "    }\n",
       "\n",
       "    .dataframe thead th {\n",
       "        text-align: right;\n",
       "    }\n",
       "</style>\n",
       "<table border=\"1\" class=\"dataframe\">\n",
       "  <thead>\n",
       "    <tr style=\"text-align: right;\">\n",
       "      <th></th>\n",
       "      <th>Rank</th>\n",
       "      <th>Name</th>\n",
       "      <th>Japanese_name</th>\n",
       "      <th>Type</th>\n",
       "      <th>Episodes</th>\n",
       "      <th>Studio</th>\n",
       "      <th>Release_season</th>\n",
       "      <th>Tags</th>\n",
       "      <th>Rating</th>\n",
       "      <th>Release_year</th>\n",
       "      <th>End_year</th>\n",
       "      <th>Description</th>\n",
       "      <th>Content_Warning</th>\n",
       "      <th>Related_Mange</th>\n",
       "      <th>Related_anime</th>\n",
       "      <th>Voice_actors</th>\n",
       "      <th>staff</th>\n",
       "    </tr>\n",
       "  </thead>\n",
       "  <tbody>\n",
       "    <tr>\n",
       "      <th>0</th>\n",
       "      <td>1</td>\n",
       "      <td>Demon Slayer: Kimetsu no Yaiba - Entertainment...</td>\n",
       "      <td>Kimetsu no Yaiba: Yuukaku-hen</td>\n",
       "      <td>TV</td>\n",
       "      <td>NaN</td>\n",
       "      <td>ufotable</td>\n",
       "      <td>Fall</td>\n",
       "      <td>Action, Adventure, Fantasy, Shounen, Demons, H...</td>\n",
       "      <td>4.6</td>\n",
       "      <td>2021.0</td>\n",
       "      <td>NaN</td>\n",
       "      <td>'Tanjiro and his friends accompany the Hashira...</td>\n",
       "      <td>Explicit Violence</td>\n",
       "      <td>Demon Slayer: Kimetsu no Yaiba</td>\n",
       "      <td>Demon Slayer: Kimetsu no Yaiba, Demon Slayer: ...</td>\n",
       "      <td>Inosuke Hashibira : Yoshitsugu Matsuoka, Nezuk...</td>\n",
       "      <td>Koyoharu Gotouge : Original Creator, Haruo Sot...</td>\n",
       "    </tr>\n",
       "  </tbody>\n",
       "</table>\n",
       "</div>"
      ],
      "text/plain": [
       "   Rank                                               Name  \\\n",
       "0     1  Demon Slayer: Kimetsu no Yaiba - Entertainment...   \n",
       "\n",
       "                    Japanese_name   Type  Episodes    Studio Release_season  \\\n",
       "0   Kimetsu no Yaiba: Yuukaku-hen  TV          NaN  ufotable          Fall    \n",
       "\n",
       "                                                Tags  Rating  Release_year  \\\n",
       "0  Action, Adventure, Fantasy, Shounen, Demons, H...     4.6        2021.0   \n",
       "\n",
       "   End_year                                        Description  \\\n",
       "0       NaN  'Tanjiro and his friends accompany the Hashira...   \n",
       "\n",
       "     Content_Warning                   Related_Mange  \\\n",
       "0  Explicit Violence  Demon Slayer: Kimetsu no Yaiba   \n",
       "\n",
       "                                       Related_anime  \\\n",
       "0  Demon Slayer: Kimetsu no Yaiba, Demon Slayer: ...   \n",
       "\n",
       "                                        Voice_actors  \\\n",
       "0  Inosuke Hashibira : Yoshitsugu Matsuoka, Nezuk...   \n",
       "\n",
       "                                               staff  \n",
       "0  Koyoharu Gotouge : Original Creator, Haruo Sot...  "
      ]
     },
     "execution_count": 2,
     "metadata": {},
     "output_type": "execute_result"
    }
   ],
   "source": [
    "df = pd.read_csv(\"Anime.csv\")\n",
    "print(df.shape)\n",
    "df.head(1)"
   ]
  },
  {
   "cell_type": "markdown",
   "id": "48e0fcd8",
   "metadata": {},
   "source": [
    "### Cleaning Datasets\n",
    "We will focus on EDA for this activity, so we will select interesting columns and drop null values here."
   ]
  },
  {
   "cell_type": "code",
   "execution_count": 3,
   "id": "ebcd3fc5",
   "metadata": {},
   "outputs": [
    {
     "name": "stdout",
     "output_type": "stream",
     "text": [
      "(1296, 6)\n"
     ]
    },
    {
     "data": {
      "text/html": [
       "<div>\n",
       "<style scoped>\n",
       "    .dataframe tbody tr th:only-of-type {\n",
       "        vertical-align: middle;\n",
       "    }\n",
       "\n",
       "    .dataframe tbody tr th {\n",
       "        vertical-align: top;\n",
       "    }\n",
       "\n",
       "    .dataframe thead th {\n",
       "        text-align: right;\n",
       "    }\n",
       "</style>\n",
       "<table border=\"1\" class=\"dataframe\">\n",
       "  <thead>\n",
       "    <tr style=\"text-align: right;\">\n",
       "      <th></th>\n",
       "      <th>Rank</th>\n",
       "      <th>Name</th>\n",
       "      <th>Type</th>\n",
       "      <th>Episodes</th>\n",
       "      <th>Rating</th>\n",
       "      <th>Content_Warning</th>\n",
       "    </tr>\n",
       "  </thead>\n",
       "  <tbody>\n",
       "    <tr>\n",
       "      <th>1</th>\n",
       "      <td>2</td>\n",
       "      <td>Fruits Basket the Final Season</td>\n",
       "      <td>TV</td>\n",
       "      <td>13.0</td>\n",
       "      <td>4.60</td>\n",
       "      <td>Emotional Abuse,, Mature Themes,, Physical Abu...</td>\n",
       "    </tr>\n",
       "    <tr>\n",
       "      <th>3</th>\n",
       "      <td>4</td>\n",
       "      <td>Fullmetal Alchemist: Brotherhood</td>\n",
       "      <td>TV</td>\n",
       "      <td>64.0</td>\n",
       "      <td>4.58</td>\n",
       "      <td>Animal Abuse,, Mature Themes,, Violence,, Dome...</td>\n",
       "    </tr>\n",
       "    <tr>\n",
       "      <th>4</th>\n",
       "      <td>5</td>\n",
       "      <td>Attack on Titan 3rd Season: Part II</td>\n",
       "      <td>TV</td>\n",
       "      <td>10.0</td>\n",
       "      <td>4.57</td>\n",
       "      <td>Cannibalism,, Explicit Violence</td>\n",
       "    </tr>\n",
       "  </tbody>\n",
       "</table>\n",
       "</div>"
      ],
      "text/plain": [
       "   Rank                                 Name Type  Episodes  Rating  \\\n",
       "1     2       Fruits Basket the Final Season   TV      13.0    4.60   \n",
       "3     4     Fullmetal Alchemist: Brotherhood   TV      64.0    4.58   \n",
       "4     5  Attack on Titan 3rd Season: Part II   TV      10.0    4.57   \n",
       "\n",
       "                                     Content_Warning  \n",
       "1  Emotional Abuse,, Mature Themes,, Physical Abu...  \n",
       "3  Animal Abuse,, Mature Themes,, Violence,, Dome...  \n",
       "4                    Cannibalism,, Explicit Violence  "
      ]
     },
     "execution_count": 3,
     "metadata": {},
     "output_type": "execute_result"
    }
   ],
   "source": [
    "# select only the interesting columns\n",
    "df1 = df[['Rank', 'Name', 'Type', 'Episodes', 'Rating', 'Content_Warning']]\n",
    "# clear white spaces in 'Type' column\n",
    "df1['Type'] = df1['Type'].str.replace(\" \", \"\")\n",
    "# drop null values\n",
    "df1 = df1.dropna()\n",
    "print(df1.shape)\n",
    "df1.head(3)"
   ]
  },
  {
   "cell_type": "markdown",
   "id": "32bdf3fe",
   "metadata": {},
   "source": [
    "### Creating Decision Tree\n",
    "NOTE: The decision tree does not support categorical data as features.\n",
    "\n",
    "As a first step, we will create a binary class (0 = not to watch, 1 = to watch) from the rating. Rating score  equal or greater than \"3\" we will consider as \"to watch\".\n"
   ]
  },
  {
   "cell_type": "markdown",
   "id": "ccfed60d",
   "metadata": {},
   "source": [
    "### Criteria for \"to watch\" or \"not to watch\""
   ]
  },
  {
   "cell_type": "code",
   "execution_count": 6,
   "id": "cd69e31d",
   "metadata": {},
   "outputs": [
    {
     "name": "stdout",
     "output_type": "stream",
     "text": [
      "0    1083\n",
      "1     213\n",
      "Name: Judgement, dtype: int64\n"
     ]
    },
    {
     "data": {
      "text/html": [
       "<div>\n",
       "<style scoped>\n",
       "    .dataframe tbody tr th:only-of-type {\n",
       "        vertical-align: middle;\n",
       "    }\n",
       "\n",
       "    .dataframe tbody tr th {\n",
       "        vertical-align: top;\n",
       "    }\n",
       "\n",
       "    .dataframe thead th {\n",
       "        text-align: right;\n",
       "    }\n",
       "</style>\n",
       "<table border=\"1\" class=\"dataframe\">\n",
       "  <thead>\n",
       "    <tr style=\"text-align: right;\">\n",
       "      <th></th>\n",
       "      <th>Rank</th>\n",
       "      <th>Name</th>\n",
       "      <th>Type</th>\n",
       "      <th>Episodes</th>\n",
       "      <th>Rating</th>\n",
       "      <th>Content_Warning</th>\n",
       "      <th>Judgement</th>\n",
       "    </tr>\n",
       "  </thead>\n",
       "  <tbody>\n",
       "    <tr>\n",
       "      <th>1</th>\n",
       "      <td>2</td>\n",
       "      <td>Fruits Basket the Final Season</td>\n",
       "      <td>TV</td>\n",
       "      <td>13.0</td>\n",
       "      <td>4.60</td>\n",
       "      <td>Emotional Abuse,, Mature Themes,, Physical Abu...</td>\n",
       "      <td>0</td>\n",
       "    </tr>\n",
       "    <tr>\n",
       "      <th>3</th>\n",
       "      <td>4</td>\n",
       "      <td>Fullmetal Alchemist: Brotherhood</td>\n",
       "      <td>TV</td>\n",
       "      <td>64.0</td>\n",
       "      <td>4.58</td>\n",
       "      <td>Animal Abuse,, Mature Themes,, Violence,, Dome...</td>\n",
       "      <td>0</td>\n",
       "    </tr>\n",
       "  </tbody>\n",
       "</table>\n",
       "</div>"
      ],
      "text/plain": [
       "   Rank                              Name Type  Episodes  Rating  \\\n",
       "1     2    Fruits Basket the Final Season   TV      13.0    4.60   \n",
       "3     4  Fullmetal Alchemist: Brotherhood   TV      64.0    4.58   \n",
       "\n",
       "                                     Content_Warning  Judgement  \n",
       "1  Emotional Abuse,, Mature Themes,, Physical Abu...          0  \n",
       "3  Animal Abuse,, Mature Themes,, Violence,, Dome...          0  "
      ]
     },
     "execution_count": 6,
     "metadata": {},
     "output_type": "execute_result"
    }
   ],
   "source": [
    "# Criteria for \"to watch\" or \"not to watch\" in a new column name 'Judgement'\n",
    "df1['Judgement'] = (df1['Rating']>= 3) & (df1['Type']== 'TV') & (df1['Episodes'] >=10) & (df1['Content_Warning']== 'Violence') \n",
    "# convert 'Judgement' column into 0 and 1\n",
    "df1['Judgement'] = df1['Judgement'].astype('int')\n",
    "# verify\n",
    "print(df1.Judgement.value_counts())\n",
    "df1.head(2)"
   ]
  },
  {
   "cell_type": "markdown",
   "id": "a576f026",
   "metadata": {},
   "source": [
    "#### Define X and y"
   ]
  },
  {
   "cell_type": "code",
   "execution_count": 7,
   "id": "92450744",
   "metadata": {},
   "outputs": [],
   "source": [
    "X = df1[['Rating', 'Type','Episodes', 'Content_Warning']]\n",
    "y = df1['Judgement']\n",
    "y = y.astype('int')"
   ]
  },
  {
   "cell_type": "markdown",
   "id": "95c51052",
   "metadata": {},
   "source": [
    "### X dataset Manipulation"
   ]
  },
  {
   "cell_type": "markdown",
   "id": "29eae6af",
   "metadata": {},
   "source": [
    "Manipulation of \"Type\" column"
   ]
  },
  {
   "cell_type": "code",
   "execution_count": 8,
   "id": "02409d2d",
   "metadata": {},
   "outputs": [
    {
     "data": {
      "text/html": [
       "<div>\n",
       "<style scoped>\n",
       "    .dataframe tbody tr th:only-of-type {\n",
       "        vertical-align: middle;\n",
       "    }\n",
       "\n",
       "    .dataframe tbody tr th {\n",
       "        vertical-align: top;\n",
       "    }\n",
       "\n",
       "    .dataframe thead th {\n",
       "        text-align: right;\n",
       "    }\n",
       "</style>\n",
       "<table border=\"1\" class=\"dataframe\">\n",
       "  <thead>\n",
       "    <tr style=\"text-align: right;\">\n",
       "      <th></th>\n",
       "      <th>Rating</th>\n",
       "      <th>Episodes</th>\n",
       "      <th>Content_Warning</th>\n",
       "      <th>Type_OVA</th>\n",
       "      <th>Type_TV</th>\n",
       "      <th>Type_Web</th>\n",
       "    </tr>\n",
       "  </thead>\n",
       "  <tbody>\n",
       "    <tr>\n",
       "      <th>1</th>\n",
       "      <td>4.60</td>\n",
       "      <td>13.0</td>\n",
       "      <td>Emotional Abuse,, Mature Themes,, Physical Abu...</td>\n",
       "      <td>0</td>\n",
       "      <td>1</td>\n",
       "      <td>0</td>\n",
       "    </tr>\n",
       "    <tr>\n",
       "      <th>3</th>\n",
       "      <td>4.58</td>\n",
       "      <td>64.0</td>\n",
       "      <td>Animal Abuse,, Mature Themes,, Violence,, Dome...</td>\n",
       "      <td>0</td>\n",
       "      <td>1</td>\n",
       "      <td>0</td>\n",
       "    </tr>\n",
       "  </tbody>\n",
       "</table>\n",
       "</div>"
      ],
      "text/plain": [
       "   Rating  Episodes                                    Content_Warning  \\\n",
       "1    4.60      13.0  Emotional Abuse,, Mature Themes,, Physical Abu...   \n",
       "3    4.58      64.0  Animal Abuse,, Mature Themes,, Violence,, Dome...   \n",
       "\n",
       "   Type_OVA  Type_TV  Type_Web  \n",
       "1         0        1         0  \n",
       "3         0        1         0  "
      ]
     },
     "execution_count": 8,
     "metadata": {},
     "output_type": "execute_result"
    }
   ],
   "source": [
    "# convert to OHE\n",
    "pd.get_dummies(X, columns=['Type']).head(2)"
   ]
  },
  {
   "cell_type": "code",
   "execution_count": 9,
   "id": "1ed11687",
   "metadata": {},
   "outputs": [
    {
     "data": {
      "text/html": [
       "<div>\n",
       "<style scoped>\n",
       "    .dataframe tbody tr th:only-of-type {\n",
       "        vertical-align: middle;\n",
       "    }\n",
       "\n",
       "    .dataframe tbody tr th {\n",
       "        vertical-align: top;\n",
       "    }\n",
       "\n",
       "    .dataframe thead th {\n",
       "        text-align: right;\n",
       "    }\n",
       "</style>\n",
       "<table border=\"1\" class=\"dataframe\">\n",
       "  <thead>\n",
       "    <tr style=\"text-align: right;\">\n",
       "      <th></th>\n",
       "      <th>Rating</th>\n",
       "      <th>Episodes</th>\n",
       "      <th>Content_Warning</th>\n",
       "      <th>Type_OVA</th>\n",
       "      <th>Type_TV</th>\n",
       "      <th>Type_Web</th>\n",
       "    </tr>\n",
       "  </thead>\n",
       "  <tbody>\n",
       "    <tr>\n",
       "      <th>1</th>\n",
       "      <td>4.60</td>\n",
       "      <td>13.0</td>\n",
       "      <td>Emotional Abuse,, Mature Themes,, Physical Abu...</td>\n",
       "      <td>0</td>\n",
       "      <td>1</td>\n",
       "      <td>0</td>\n",
       "    </tr>\n",
       "    <tr>\n",
       "      <th>3</th>\n",
       "      <td>4.58</td>\n",
       "      <td>64.0</td>\n",
       "      <td>Animal Abuse,, Mature Themes,, Violence,, Dome...</td>\n",
       "      <td>0</td>\n",
       "      <td>1</td>\n",
       "      <td>0</td>\n",
       "    </tr>\n",
       "  </tbody>\n",
       "</table>\n",
       "</div>"
      ],
      "text/plain": [
       "   Rating  Episodes                                    Content_Warning  \\\n",
       "1    4.60      13.0  Emotional Abuse,, Mature Themes,, Physical Abu...   \n",
       "3    4.58      64.0  Animal Abuse,, Mature Themes,, Violence,, Dome...   \n",
       "\n",
       "   Type_OVA  Type_TV  Type_Web  \n",
       "1         0        1         0  \n",
       "3         0        1         0  "
      ]
     },
     "execution_count": 9,
     "metadata": {},
     "output_type": "execute_result"
    }
   ],
   "source": [
    "X_encoded = pd.get_dummies(X, columns=['Type'])\n",
    "X_encoded.head(2)"
   ]
  },
  {
   "cell_type": "markdown",
   "id": "b1899c74",
   "metadata": {},
   "source": [
    "Manipulation of \"Content_Warning\" column\n",
    "<br/>\n",
    "Create new column named \"Genre\" that has a value of 1 if the genre of the observation is \"Violence\" type otherwise 0."
   ]
  },
  {
   "cell_type": "code",
   "execution_count": 10,
   "id": "54467b21",
   "metadata": {},
   "outputs": [],
   "source": [
    "for i in X_encoded['Content_Warning']:\n",
    "    if i == 'Violence':\n",
    "        X_encoded['Genre'] = X_encoded['Content_Warning'].map({'Violence':1})\n",
    "    \n",
    "# convert Nan into 0's\n",
    "X_encoded['Genre'].fillna(0, inplace=True)  "
   ]
  },
  {
   "cell_type": "markdown",
   "id": "f457548e",
   "metadata": {},
   "source": [
    "Finalize the new X dataset in a new variable named \"X_encoded\""
   ]
  },
  {
   "cell_type": "code",
   "execution_count": 11,
   "id": "a1e8b88b",
   "metadata": {},
   "outputs": [
    {
     "data": {
      "text/html": [
       "<div>\n",
       "<style scoped>\n",
       "    .dataframe tbody tr th:only-of-type {\n",
       "        vertical-align: middle;\n",
       "    }\n",
       "\n",
       "    .dataframe tbody tr th {\n",
       "        vertical-align: top;\n",
       "    }\n",
       "\n",
       "    .dataframe thead th {\n",
       "        text-align: right;\n",
       "    }\n",
       "</style>\n",
       "<table border=\"1\" class=\"dataframe\">\n",
       "  <thead>\n",
       "    <tr style=\"text-align: right;\">\n",
       "      <th></th>\n",
       "      <th>Rating</th>\n",
       "      <th>Type_OVA</th>\n",
       "      <th>Type_TV</th>\n",
       "      <th>Type_Web</th>\n",
       "      <th>Episodes</th>\n",
       "      <th>Genre</th>\n",
       "    </tr>\n",
       "  </thead>\n",
       "  <tbody>\n",
       "    <tr>\n",
       "      <th>1</th>\n",
       "      <td>4.60</td>\n",
       "      <td>0</td>\n",
       "      <td>1</td>\n",
       "      <td>0</td>\n",
       "      <td>13.0</td>\n",
       "      <td>0.0</td>\n",
       "    </tr>\n",
       "    <tr>\n",
       "      <th>3</th>\n",
       "      <td>4.58</td>\n",
       "      <td>0</td>\n",
       "      <td>1</td>\n",
       "      <td>0</td>\n",
       "      <td>64.0</td>\n",
       "      <td>0.0</td>\n",
       "    </tr>\n",
       "  </tbody>\n",
       "</table>\n",
       "</div>"
      ],
      "text/plain": [
       "   Rating  Type_OVA  Type_TV  Type_Web  Episodes  Genre\n",
       "1    4.60         0        1         0      13.0    0.0\n",
       "3    4.58         0        1         0      64.0    0.0"
      ]
     },
     "execution_count": 11,
     "metadata": {},
     "output_type": "execute_result"
    }
   ],
   "source": [
    "X_encoded = X_encoded[['Rating','Type_OVA','Type_TV','Type_Web','Episodes', 'Genre']]\n",
    "X_encoded.head(2)"
   ]
  },
  {
   "cell_type": "markdown",
   "id": "0af8b1c0",
   "metadata": {},
   "source": [
    "### Data split"
   ]
  },
  {
   "cell_type": "code",
   "execution_count": 12,
   "id": "1939fae7",
   "metadata": {},
   "outputs": [],
   "source": [
    "x_train, x_test, y_train, y_test = train_test_split(X_encoded,y, random_state=0, test_size=0.3)"
   ]
  },
  {
   "cell_type": "markdown",
   "id": "b5729b94",
   "metadata": {},
   "source": [
    "### `Note:`\n",
    "</br>\n",
    "In most decision tree, we are just comparing stuff and branching down the tree, so normalization would not help here."
   ]
  },
  {
   "cell_type": "markdown",
   "id": "6a9aa170",
   "metadata": {},
   "source": [
    "### Decision Tree Instance"
   ]
  },
  {
   "cell_type": "code",
   "execution_count": 13,
   "id": "7ae2ab4a",
   "metadata": {},
   "outputs": [
    {
     "data": {
      "text/html": [
       "<style>#sk-container-id-1 {color: black;background-color: white;}#sk-container-id-1 pre{padding: 0;}#sk-container-id-1 div.sk-toggleable {background-color: white;}#sk-container-id-1 label.sk-toggleable__label {cursor: pointer;display: block;width: 100%;margin-bottom: 0;padding: 0.3em;box-sizing: border-box;text-align: center;}#sk-container-id-1 label.sk-toggleable__label-arrow:before {content: \"▸\";float: left;margin-right: 0.25em;color: #696969;}#sk-container-id-1 label.sk-toggleable__label-arrow:hover:before {color: black;}#sk-container-id-1 div.sk-estimator:hover label.sk-toggleable__label-arrow:before {color: black;}#sk-container-id-1 div.sk-toggleable__content {max-height: 0;max-width: 0;overflow: hidden;text-align: left;background-color: #f0f8ff;}#sk-container-id-1 div.sk-toggleable__content pre {margin: 0.2em;color: black;border-radius: 0.25em;background-color: #f0f8ff;}#sk-container-id-1 input.sk-toggleable__control:checked~div.sk-toggleable__content {max-height: 200px;max-width: 100%;overflow: auto;}#sk-container-id-1 input.sk-toggleable__control:checked~label.sk-toggleable__label-arrow:before {content: \"▾\";}#sk-container-id-1 div.sk-estimator input.sk-toggleable__control:checked~label.sk-toggleable__label {background-color: #d4ebff;}#sk-container-id-1 div.sk-label input.sk-toggleable__control:checked~label.sk-toggleable__label {background-color: #d4ebff;}#sk-container-id-1 input.sk-hidden--visually {border: 0;clip: rect(1px 1px 1px 1px);clip: rect(1px, 1px, 1px, 1px);height: 1px;margin: -1px;overflow: hidden;padding: 0;position: absolute;width: 1px;}#sk-container-id-1 div.sk-estimator {font-family: monospace;background-color: #f0f8ff;border: 1px dotted black;border-radius: 0.25em;box-sizing: border-box;margin-bottom: 0.5em;}#sk-container-id-1 div.sk-estimator:hover {background-color: #d4ebff;}#sk-container-id-1 div.sk-parallel-item::after {content: \"\";width: 100%;border-bottom: 1px solid gray;flex-grow: 1;}#sk-container-id-1 div.sk-label:hover label.sk-toggleable__label {background-color: #d4ebff;}#sk-container-id-1 div.sk-serial::before {content: \"\";position: absolute;border-left: 1px solid gray;box-sizing: border-box;top: 0;bottom: 0;left: 50%;z-index: 0;}#sk-container-id-1 div.sk-serial {display: flex;flex-direction: column;align-items: center;background-color: white;padding-right: 0.2em;padding-left: 0.2em;position: relative;}#sk-container-id-1 div.sk-item {position: relative;z-index: 1;}#sk-container-id-1 div.sk-parallel {display: flex;align-items: stretch;justify-content: center;background-color: white;position: relative;}#sk-container-id-1 div.sk-item::before, #sk-container-id-1 div.sk-parallel-item::before {content: \"\";position: absolute;border-left: 1px solid gray;box-sizing: border-box;top: 0;bottom: 0;left: 50%;z-index: -1;}#sk-container-id-1 div.sk-parallel-item {display: flex;flex-direction: column;z-index: 1;position: relative;background-color: white;}#sk-container-id-1 div.sk-parallel-item:first-child::after {align-self: flex-end;width: 50%;}#sk-container-id-1 div.sk-parallel-item:last-child::after {align-self: flex-start;width: 50%;}#sk-container-id-1 div.sk-parallel-item:only-child::after {width: 0;}#sk-container-id-1 div.sk-dashed-wrapped {border: 1px dashed gray;margin: 0 0.4em 0.5em 0.4em;box-sizing: border-box;padding-bottom: 0.4em;background-color: white;}#sk-container-id-1 div.sk-label label {font-family: monospace;font-weight: bold;display: inline-block;line-height: 1.2em;}#sk-container-id-1 div.sk-label-container {text-align: center;}#sk-container-id-1 div.sk-container {/* jupyter's `normalize.less` sets `[hidden] { display: none; }` but bootstrap.min.css set `[hidden] { display: none !important; }` so we also need the `!important` here to be able to override the default hidden behavior on the sphinx rendered scikit-learn.org. See: https://github.com/scikit-learn/scikit-learn/issues/21755 */display: inline-block !important;position: relative;}#sk-container-id-1 div.sk-text-repr-fallback {display: none;}</style><div id=\"sk-container-id-1\" class=\"sk-top-container\"><div class=\"sk-text-repr-fallback\"><pre>DecisionTreeClassifier(random_state=0)</pre><b>In a Jupyter environment, please rerun this cell to show the HTML representation or trust the notebook. <br />On GitHub, the HTML representation is unable to render, please try loading this page with nbviewer.org.</b></div><div class=\"sk-container\" hidden><div class=\"sk-item\"><div class=\"sk-estimator sk-toggleable\"><input class=\"sk-toggleable__control sk-hidden--visually\" id=\"sk-estimator-id-1\" type=\"checkbox\" checked><label for=\"sk-estimator-id-1\" class=\"sk-toggleable__label sk-toggleable__label-arrow\">DecisionTreeClassifier</label><div class=\"sk-toggleable__content\"><pre>DecisionTreeClassifier(random_state=0)</pre></div></div></div></div></div>"
      ],
      "text/plain": [
       "DecisionTreeClassifier(random_state=0)"
      ]
     },
     "execution_count": 13,
     "metadata": {},
     "output_type": "execute_result"
    }
   ],
   "source": [
    "# parameters are all on default \n",
    "dt = DecisionTreeClassifier(random_state=0, \n",
    "#                             max_depth=3,\n",
    "                           )\n",
    "# Fit training data\n",
    "dt.fit(x_train, y_train)"
   ]
  },
  {
   "cell_type": "markdown",
   "id": "4c107030",
   "metadata": {},
   "source": [
    "### Visualize Decision Tree"
   ]
  },
  {
   "cell_type": "code",
   "execution_count": 14,
   "id": "e91a2872",
   "metadata": {},
   "outputs": [
    {
     "data": {
      "image/png": "[encoded data removed]",
      "text/plain": [
       "<Figure size 1500x750 with 1 Axes>"
      ]
     },
     "metadata": {},
     "output_type": "display_data"
    }
   ],
   "source": [
    "plt.figure(figsize=(15, 7.5))\n",
    "\n",
    "tree.plot_tree(dt, \n",
    "               feature_names = x_train.columns,\n",
    "               max_depth=None,\n",
    "               class_names = ['0_not to watch', '1_to watch'],\n",
    "               label='root',\n",
    "               filled=True,\n",
    "               rounded = True\n",
    "              )\n",
    "plt.legend('kkddd')\n",
    "plt.show()"
   ]
  },
  {
   "cell_type": "markdown",
   "id": "cc702a17",
   "metadata": {},
   "source": [
    "### `Interpretation`\n",
    "1. `Genre` / Root Node \n",
    " - Genre has the lowest GNI impurity thats why it became our root node.\n",
    " - If \"Genre\" is not \"Violence\" then it will fall to \"not to watch\" node.\n",
    " - There are 907 total samples (X data after the split)\n",
    " - There are 762 observations fall under not to watch node and a 145 observations that is a \"Violence\" genre type (to watch).\n",
    " - Class is 0_not_to_watch, majority of the observations is not a \"Violence\" or has many genre type.\n",
    "\n",
    "\n",
    "2. Type_TV\n",
    " - If the observation is a \"Violence\" type, then it will fall under the second layer node \"Type_TV\"\n",
    " - If the observation is a \"TV\" type then it will consider as \"to watch\".\n",
    "\n",
    "\n",
    "3. Rating\n",
    " - If the observation has a rating equal or higher than 2.995 then it will fall under \"to watch\" category."
   ]
  },
  {
   "cell_type": "markdown",
   "id": "aa1a4ec0",
   "metadata": {},
   "source": [
    "# Model Evaluation"
   ]
  },
  {
   "cell_type": "code",
   "execution_count": 15,
   "id": "6f675cba",
   "metadata": {},
   "outputs": [
    {
     "name": "stdout",
     "output_type": "stream",
     "text": [
      "1.0\n"
     ]
    }
   ],
   "source": [
    "y_pred = dt.predict(x_test)\n",
    "# print(dt.score(x_test, y_test)) # .score is the same as accuracy_score\n",
    "print(accuracy_score(y_test, y_pred))"
   ]
  },
  {
   "cell_type": "code",
   "execution_count": 16,
   "id": "0b693da2",
   "metadata": {},
   "outputs": [
    {
     "name": "stdout",
     "output_type": "stream",
     "text": [
      "[[321   0]\n",
      " [  0  68]]\n"
     ]
    },
    {
     "data": {
      "text/plain": [
       "<AxesSubplot:>"
      ]
     },
     "execution_count": 16,
     "metadata": {},
     "output_type": "execute_result"
    },
    {
     "data": {
      "image/png": "[encoded data removed]",
      "text/plain": [
       "<Figure size 800x500 with 2 Axes>"
      ]
     },
     "metadata": {},
     "output_type": "display_data"
    }
   ],
   "source": [
    "# Confusion Matrix\n",
    "model_matrix = confusion_matrix(y_test, y_pred)\n",
    "print(model_matrix)\n",
    "\n",
    "# Visualize\n",
    "fig, ax = plt.subplots(figsize=(8,5))\n",
    "\n",
    "# setting variables\n",
    "group_names = ['True Neg','False Pos','False Neg','True Pos']\n",
    "group_counts = ['{0:0.0f}'.format(value) for value in model_matrix.flatten()]\n",
    "group_percentages = ['{0:.2%}'.format(value) for value in model_matrix.flatten()/np.sum(model_matrix)]\n",
    "labels = [f'{v1}\\n{v2}\\n{v3}' for v1, v2, v3 in zip(group_names,group_counts,group_percentages)]\n",
    "labels = np.asarray(labels).reshape(2,2)\n",
    "\n",
    "sns.heatmap(model_matrix, annot=labels, fmt='', cmap='Purples')\n",
    "\n",
    "# code using plot_confusion_matrix\n",
    "# uncomment to show\n",
    "# plot_confusion_matrix(dt, x_test, y_test, display_labels =['Unlikely Admit', 'Likely Admit'], cmap='Purples')"
   ]
  },
  {
   "cell_type": "markdown",
   "id": "06650425",
   "metadata": {},
   "source": [
    "### Testing our model"
   ]
  },
  {
   "cell_type": "code",
   "execution_count": 17,
   "id": "c1c5cf3f",
   "metadata": {},
   "outputs": [],
   "source": [
    "# input Rating/Type_OVA/Type_TV/Type_Web/Episodes/Genre\n",
    "new_anime1 = [[4,0,1,0,12,1]]"
   ]
  },
  {
   "cell_type": "code",
   "execution_count": 18,
   "id": "fbbacf7f",
   "metadata": {},
   "outputs": [
    {
     "data": {
      "text/plain": [
       "array([1])"
      ]
     },
     "execution_count": 18,
     "metadata": {},
     "output_type": "execute_result"
    }
   ],
   "source": [
    "# predict new_anime1\n",
    "dt.predict(new_anime1)"
   ]
  },
  {
   "cell_type": "markdown",
   "id": "2f69977f",
   "metadata": {},
   "source": [
    "new_anime1 is a must watch TV series."
   ]
  },
  {
   "cell_type": "markdown",
   "id": "1a229ce2",
   "metadata": {},
   "source": [
    "***"
   ]
  },
  {
   "cell_type": "markdown",
   "id": "158d26e6",
   "metadata": {},
   "source": [
    "***"
   ]
  }
 ],
 "metadata": {
  "kernelspec": {
   "display_name": "Python 3 (ipykernel)",
   "language": "python",
   "name": "python3"
  },
  "language_info": {
   "codemirror_mode": {
    "name": "ipython",
    "version": 3
   },
   "file_extension": ".py",
   "mimetype": "text/x-python",
   "name": "python",
   "nbconvert_exporter": "python",
   "pygments_lexer": "ipython3",
   "version": "3.8.13"
  }
 },
 "nbformat": 4,
 "nbformat_minor": 5
}
